{
  "cells": [
    {
      "cell_type": "markdown",
      "metadata": {
        "colab_type": "text",
        "id": "view-in-github"
      },
      "source": [
        "<a href=\"https://colab.research.google.com/github/minhthy1016/aiops_collection/blob/main/PythonProgramming_Homework.ipynb\" target=\"_parent\"><img src=\"https://colab.research.google.com/assets/colab-badge.svg\" alt=\"Open In Colab\"/></a>"
      ]
    },
    {
      "cell_type": "markdown",
      "metadata": {
        "id": "DIHw5MQJDS4-"
      },
      "source": [
        "# 1. Data Structure (mỗi câu 0.5)\n",
        "\n",
        "Cho một dictionary gồm tên và điểm số."
      ]
    },
    {
      "cell_type": "markdown",
      "metadata": {
        "id": "i-6mwO4zD2it"
      },
      "source": [
        "points = {'an': 9, 'binh': 7, 'khanh': 8, 'linh': 10, 'huyen': 6}\n",
        "\n",
        "1. Hãy sắp xếp dictionary trên theo điểm số tăng dần.\n",
        "2. Hãy tạo một dictionary có key là điểm số và giá trị là tên."
      ]
    },
    {
      "cell_type": "code",
      "execution_count": 1,
      "metadata": {
        "colab": {
          "base_uri": "https://localhost:8080/"
        },
        "id": "DxxhVWlqDcap",
        "outputId": "a0a8fd8c-b2cf-4010-ca69-b45323342b5c"
      },
      "outputs": [
        {
          "name": "stdout",
          "output_type": "stream",
          "text": [
            "{'huyen': 6, 'binh': 7, 'khanh': 8, 'an': 9, 'linh': 10}\n",
            "{9: 'an', 7: 'binh', 8: 'khanh', 10: 'linh', 6: 'huyen'}\n"
          ]
        }
      ],
      "source": [
        "points = {'an': 9, 'binh': 7, 'khanh': 8, 'linh': 10, 'huyen': 6}\n",
        "# Sắp xếp dictionary theo điểm số tăng dần\n",
        "sorted_points = dict(sorted(points.items(), key=lambda item: item[1]))\n",
        "print(sorted_points)\n",
        "# 1. Hãy sắp xếp dictionary trên theo điểm số tăng dần.\n",
        "# 2. Hãy tạo một dictionary có key là điểm số và giá trị là tên.\n",
        "\n",
        "reverse_points = {v: k for k, v in points.items()}\n",
        "print(reverse_points)\n"
      ]
    },
    {
      "cell_type": "markdown",
      "metadata": {
        "id": "O3LkW11f2iuk"
      },
      "source": [
        "Cho câu văn sau:\n",
        "\n",
        "`vi mot cong dong AI vung vung manh manh hon`"
      ]
    },
    {
      "cell_type": "markdown",
      "metadata": {
        "id": "vXu9wuUIEbO8"
      },
      "source": [
        "3. Phân tách câu văn trên thành một list theo khoảng trắng.\n",
        "4. Tìm các giá trị duy nhất của list đó.\n",
        "5. Đếm số lần lặp lại của mỗi phần tử trong list.\n",
        "6. Xóa các phần tử trong list mà có chữ cái bắt đầu là `v`.\n",
        "\n",
        "7. Đảo ngược vị trí các phần tử trong list."
      ]
    },
    {
      "cell_type": "code",
      "execution_count": 3,
      "metadata": {
        "colab": {
          "base_uri": "https://localhost:8080/"
        },
        "id": "MZnLhVHMBfjM",
        "outputId": "8c3a2d4b-1eae-4a85-9d4c-429aadc46691"
      },
      "outputs": [
        {
          "name": "stdout",
          "output_type": "stream",
          "text": [
            "List phân tách: ['vi', 'mot', 'cong', 'dong', 'AI', 'vung', 'vung', 'manh', 'manh', 'hon']\n",
            "Các giá trị duy nhất: ['mot', 'dong', 'hon', 'vi', 'manh', 'cong', 'AI', 'vung']\n",
            "Số lần lặp lại của mỗi phần tử: {'vi': 1, 'mot': 1, 'cong': 1, 'dong': 1, 'AI': 1, 'vung': 2, 'manh': 2, 'hon': 1}\n",
            "List sau khi xóa các phần tử bắt đầu bằng 'v': ['mot', 'cong', 'dong', 'AI', 'manh', 'manh', 'hon']\n",
            "List sau khi đảo ngược: ['hon', 'manh', 'manh', 'AI', 'dong', 'cong', 'mot']\n"
          ]
        }
      ],
      "source": [
        "# Câu văn\n",
        "sentence = \"vi mot cong dong AI vung vung manh manh hon\"\n",
        "\n",
        "# 1. Phân tách câu văn thành list theo khoảng trắng\n",
        "words = sentence.split()\n",
        "print(\"List phân tách:\", words)\n",
        "\n",
        "# 2. Tìm các giá trị duy nhất\n",
        "unique_words = list(set(words))\n",
        "print(\"Các giá trị duy nhất:\", unique_words)\n",
        "\n",
        "# 3. Đếm số lần lặp lại của mỗi phần tử trong list\n",
        "word_count = {word: words.count(word) for word in words}\n",
        "print(\"Số lần lặp lại của mỗi phần tử:\", word_count)\n",
        "\n",
        "# 4. Xóa các phần tử mà có chữ cái bắt đầu là 'v'\n",
        "filtered_words = [word for word in words if not word.lower().startswith('v')]\n",
        "print(\"List sau khi xóa các phần tử bắt đầu bằng 'v':\", filtered_words)\n",
        "\n",
        "# 5. Đảo ngược vị trí các phần tử trong list\n",
        "reversed_words = filtered_words[::-1]\n",
        "print(\"List sau khi đảo ngược:\", reversed_words)\n"
      ]
    },
    {
      "cell_type": "markdown",
      "metadata": {
        "id": "S4AeWcFTFMpb"
      },
      "source": [
        "8. (1.5 điểm) Viết một trò chơi dự đoán chữ số may mắn có luật chơi như sau:\n",
        "\n",
        "Chương trình sẽ khởi tạo một chữ số ngẫu nhiên. Người chơi sẽ nhập 1 giá trị từ bàn phím. Nếu chữ số nhập vào bằng số ngẫu nhiên thì in ra `you are wined!` và kết thúc chương trình. Nếu số nhập vào lớn hơn số ngẫu nhiên thì in ra gợi ý `your guess should be less than {số vừa nhập}`. Nếu số nhập vào nhỏ hơn số ngẫu nhiên thì in ra gợi ý `your guess should be greater than {số vừa nhập}`. Số lượt chơi không được vượt quá 5.\n"
      ]
    },
    {
      "cell_type": "code",
      "execution_count": 11,
      "metadata": {
        "colab": {
          "base_uri": "https://localhost:8080/"
        },
        "id": "TkhCIeC7CL4Y",
        "outputId": "adc21ed1-aab7-46f6-e3ce-f14a921b18bf"
      },
      "outputs": [
        {
          "name": "stdout",
          "output_type": "stream",
          "text": [
            "Nhập một chữ số từ 0 đến 9: 0\n",
            "Your guess should be greater than 0\n",
            "Nhập một chữ số từ 0 đến 9: 3\n",
            "Your guess should be greater than 3\n",
            "Nhập một chữ số từ 0 đến 9: 9\n",
            "Your guess should be less than 9\n",
            "Nhập một chữ số từ 0 đến 9: 8\n",
            "You are wined!\n"
          ]
        }
      ],
      "source": [
        "import random\n",
        "\n",
        "def guess_the_number():\n",
        "    # Khởi tạo một số ngẫu nhiên từ 0 đến 9\n",
        "    lucky_number = random.randint(0, 9)\n",
        "\n",
        "    max_attempts = 5  # Số lượt chơi tối đa\n",
        "    attempts = 0      # Đếm số lượt đã chơi\n",
        "\n",
        "    while attempts < max_attempts:\n",
        "        # Nhập dự đoán từ người chơi\n",
        "        guess = int(input(\"Nhập một chữ số từ 0 đến 9: \"))\n",
        "        attempts += 1\n",
        "\n",
        "        if guess == lucky_number:\n",
        "            print(\"You are wined!\")\n",
        "            break\n",
        "        elif guess > lucky_number:\n",
        "            print(f\"Your guess should be less than {guess}\")\n",
        "        else:\n",
        "            print(f\"Your guess should be greater than {guess}\")\n",
        "\n",
        "        if attempts == max_attempts:\n",
        "            print(f\"Game over! The lucky number was {lucky_number}.\")\n",
        "\n",
        "# Chạy trò chơi\n",
        "guess_the_number()\n"
      ]
    },
    {
      "cell_type": "markdown",
      "metadata": {
        "id": "XMqXOsjiVXR9"
      },
      "source": [
        "# 2. Class and Module (mỗi câu 1 điểm)\n",
        "\n",
        "1. Hãy xây dựng một class AI với hai thuộc tính là algorithm (tên thuật toán) và model_type (dạng thuật toán dự báo hay phân loại) trong hàm tạo (_constructor_).\n",
        "\n",
        "2. Viết thêm hai phương thức cho class AI là `fit` (huấn luyện) với đầu vào là các tham số `model, X_train, y_train` và `predict` (dự báo) với đầu vào là các tham số `model, X_pred`. (Không cần phải lấy dữ liệu thật, chỉ cần print ra các đối số bên trong mỗi hàm).\n",
        "\n",
        "3. Khởi tạo object cho class AI và gọi các hàm phương thức vừa thêm mới trong câu lệnh `if __name__ == '__main__'`.\n",
        "\n",
        "4. Xây dựng một class DeepLearning kế thừa từ AI. Trong class này có một hàm mở rộng là `train_on_epoch` (huấn luyện trên từng epoch) với đầu vào là `model, X_train, y_train, epoch` và hàm viết đè là `fit` có thêm tham số `learning_rate`.\n",
        "\n",
        "5. Tổ chức project thành các module, những module này gồm các files:\n",
        "- `model.py`: chứa class `DeepLearning` và class `AI`.\n",
        "- `dataset.py`: chứa class `Dataset`, tự xây dựng hàm tạo cho class này với hai thuộc tính là `input_datas` và `labels`.\n",
        "- `train.py`: import hai class là `DeepLearning` và `Dataset` từ hai module `model.py` và `dataset.py`, khởi tạo các object của hai class này và sử dụng các hàm phương thức của nó."
      ]
    },
    {
      "cell_type": "code",
      "execution_count": 1,
      "metadata": {
        "id": "aeB5X9-2DMOk"
      },
      "outputs": [],
      "source": [
        "# file model.py\n",
        "\n",
        "class AI:\n",
        "    def __init__(self, algorithm, model_type):\n",
        "        self.algorithm = algorithm\n",
        "        self.model_type = model_type\n",
        "\n",
        "    def fit(self, model, X_train, y_train):\n",
        "        print(f\"Fitting {self.algorithm} model with {self.model_type} type on data.\")\n",
        "        print(f\"Model: {model}\")\n",
        "        print(f\"X_train: {X_train}\")\n",
        "        print(f\"y_train: {y_train}\")\n",
        "\n",
        "    def predict(self, model, X_pred):\n",
        "        print(f\"Predicting using {self.algorithm} model.\")\n",
        "        print(f\"Model: {model}\")\n",
        "        print(f\"X_pred: {X_pred}\")\n",
        "\n",
        "\n",
        "class DeepLearning(AI):\n",
        "    def __init__(self, algorithm, model_type):\n",
        "        super().__init__(algorithm, model_type)\n",
        "\n",
        "    def fit(self, model, X_train, y_train, learning_rate):\n",
        "        print(f\"Fitting {self.algorithm} model with learning rate {learning_rate}.\")\n",
        "        print(f\"Model: {model}\")\n",
        "        print(f\"X_train: {X_train}\")\n",
        "        print(f\"y_train: {y_train}\")\n",
        "\n",
        "    def train_on_epoch(self, model, X_train, y_train, epoch):\n",
        "        print(f\"Training {self.algorithm} model on epoch {epoch}.\")\n",
        "        print(f\"Model: {model}\")\n",
        "        print(f\"X_train: {X_train}\")\n",
        "        print(f\"y_train: {y_train}\")\n"
      ]
    },
    {
      "cell_type": "code",
      "execution_count": 2,
      "metadata": {
        "id": "YYTXxv9NFIId"
      },
      "outputs": [],
      "source": [
        "# Writing the content of model.py\n",
        "\n",
        "model = \"\"\"\n",
        "class AI:\n",
        "    def __init__(self, algorithm, model_type):\n",
        "        self.algorithm = algorithm\n",
        "        self.model_type = model_type\n",
        "\n",
        "    def fit(self, model, X_train, y_train):\n",
        "        print(f\"Fitting {self.algorithm} model with {self.model_type} type on data.\")\n",
        "        print(f\"Model: {model}\")\n",
        "        print(f\"X_train: {X_train}\")\n",
        "        print(f\"y_train: {y_train}\")\n",
        "\n",
        "    def predict(self, model, X_pred):\n",
        "        print(f\"Predicting using {self.algorithm} model.\")\n",
        "        print(f\"Model: {model}\")\n",
        "        print(f\"X_pred: {X_pred}\")\n",
        "\n",
        "\n",
        "class DeepLearning(AI):\n",
        "    def __init__(self, algorithm, model_type):\n",
        "        super().__init__(algorithm, model_type)\n",
        "\n",
        "    def fit(self, model, X_train, y_train, learning_rate):\n",
        "        print(f\"Fitting {self.algorithm} model with learning rate {learning_rate}.\")\n",
        "        print(f\"Model: {model}\")\n",
        "        print(f\"X_train: {X_train}\")\n",
        "        print(f\"y_train: {y_train}\")\n",
        "\n",
        "    def train_on_epoch(self, model, X_train, y_train, epoch):\n",
        "        print(f\"Training {self.algorithm} model on epoch {epoch}.\")\n",
        "        print(f\"Model: {model}\")\n",
        "        print(f\"X_train: {X_train}\")\n",
        "        print(f\"y_train: {y_train}\")\n",
        "\"\"\"\n",
        "\n",
        "# Writing to the file\n",
        "with open(\"model.py\", \"w\") as f:\n",
        "    f.write(model)\n"
      ]
    },
    {
      "cell_type": "code",
      "execution_count": 3,
      "metadata": {
        "id": "p0sYqbZTE3UG"
      },
      "outputs": [],
      "source": [
        "# dataset.py\n",
        "\n",
        "class Dataset:\n",
        "    def __init__(self, input_datas, labels):\n",
        "        self.input_datas = input_datas\n",
        "        self.labels = labels\n",
        "\n",
        "    def get_data(self):\n",
        "        print(f\"Input Data: {self.input_datas}\")\n",
        "        print(f\"Labels: {self.labels}\")\n",
        "        return self.input_datas, self.labels\n"
      ]
    },
    {
      "cell_type": "code",
      "execution_count": 4,
      "metadata": {
        "id": "kvzyPuv-Fn9L"
      },
      "outputs": [],
      "source": [
        "# Writing the content of dataset.py\n",
        "\n",
        "dataset = \"\"\"\n",
        "class Dataset:\n",
        "    def __init__(self, input_datas, labels):\n",
        "        self.input_datas = input_datas\n",
        "        self.labels = labels\n",
        "\n",
        "    def get_data(self):\n",
        "        print(f\"Input Data: {self.input_datas}\")\n",
        "        print(f\"Labels: {self.labels}\")\n",
        "        return self.input_datas, self.labels\n",
        "\"\"\"\n",
        "\n",
        "# Writing to the file\n",
        "with open(\"dataset.py\", \"w\") as f:\n",
        "    f.write(dataset)\n"
      ]
    },
    {
      "cell_type": "code",
      "execution_count": 31,
      "metadata": {
        "colab": {
          "base_uri": "https://localhost:8080/"
        },
        "id": "XPAuAnXuE9bi",
        "outputId": "997dac84-b437-44aa-abbb-39a99a81102b"
      },
      "outputs": [
        {
          "name": "stdout",
          "output_type": "stream",
          "text": [
            "Input Data: [[1, 2], [3, 4], [5, 6]]\n",
            "Labels: [0, 1, 0]\n",
            "Fitting Neural Network model with learning rate 0.001.\n",
            "Model: NN_Model\n",
            "X_train: [[1, 2], [3, 4], [5, 6]]\n",
            "y_train: [0, 1, 0]\n",
            "Predicting using Neural Network model.\n",
            "Model: NN_Model\n",
            "X_pred: [[7, 8], [9, 10]]\n",
            "Training Neural Network model on epoch 10.\n",
            "Model: NN_Model\n",
            "X_train: [[1, 2], [3, 4], [5, 6]]\n",
            "y_train: [0, 1, 0]\n"
          ]
        }
      ],
      "source": [
        "# train.py\n",
        "\n",
        "from model import DeepLearning\n",
        "from dataset import Dataset\n",
        "\n",
        "if __name__ == '__main__':\n",
        "    # Tạo dữ liệu giả\n",
        "    X_train = [[1, 2], [3, 4], [5, 6]]\n",
        "    y_train = [0, 1, 0]\n",
        "    X_pred = [[7, 8], [9, 10]]\n",
        "\n",
        "    # Khởi tạo object Dataset\n",
        "    dataset = Dataset(X_train, y_train)\n",
        "    X, y = dataset.get_data()\n",
        "\n",
        "    # Khởi tạo object DeepLearning\n",
        "    dl_model = DeepLearning(\"Neural Network\", \"classification\")\n",
        "\n",
        "    # Sử dụng phương thức fit\n",
        "    dl_model.fit(model=\"NN_Model\", X_train=X, y_train=y, learning_rate=0.001)\n",
        "\n",
        "    # Sử dụng phương thức predict\n",
        "    dl_model.predict(model=\"NN_Model\", X_pred=X_pred)\n",
        "\n",
        "    # Sử dụng phương thức train_on_epoch\n",
        "    dl_model.train_on_epoch(model=\"NN_Model\", X_train=X, y_train=y, epoch=10)\n"
      ]
    },
    {
      "cell_type": "markdown",
      "metadata": {
        "id": "PUJogSiIwN5d"
      },
      "source": [
        "file evaluate model"
      ]
    },
    {
      "cell_type": "code",
      "execution_count": 5,
      "metadata": {},
      "outputs": [],
      "source": [
        "from sklearn.metrics import accuracy_score, f1_score, roc_auc_score, precision_score, recall_score, confusion_matrix\n"
      ]
    },
    {
      "cell_type": "code",
      "execution_count": 26,
      "metadata": {
        "id": "9xmFXzUewRX0"
      },
      "outputs": [],
      "source": [
        "# evaluate.py\n",
        "\n",
        "from sklearn.metrics import accuracy_score, f1_score, roc_auc_score, precision_score, recall_score, confusion_matrix\n",
        "\n",
        "class ModelEvaluator:\n",
        "    def __init__(self, y_train, y_pred, y_prob=None):\n",
        "        \"\"\"\n",
        "        Initializes the evaluator with true labels and predicted labels.\n",
        "\n",
        "        :param y_true: List or array of true labels\n",
        "        :param y_pred: List or array of predicted labels\n",
        "        :param y_prob: List or array of predicted probabilities (for AUC and ROC)\n",
        "        \"\"\"\n",
        "        self.y_train = y_train\n",
        "        self.y_pred = y_pred\n",
        "        self.y_prob = y_prob\n",
        "\n",
        "    def evaluate_accuracy(self):\n",
        "        accuracy = accuracy_score(self.y_train, self.y_pred)\n",
        "        print(f\"Accuracy: {accuracy:.4f}\")\n",
        "        return accuracy\n",
        "\n",
        "    def evaluate_f1_score(self):\n",
        "        f1 = f1_score(self.y_train, self.y_pred, average='weighted')  # 'weighted' to account for label imbalance\n",
        "        print(f\"F1 Score: {f1:.4f}\")\n",
        "        return f1\n",
        "\n",
        "    def evaluate_auc(self):\n",
        "        if self.y_prob is not None:\n",
        "            auc = roc_auc_score(self.y_train, self.y_prob)\n",
        "            print(f\"AUC: {auc:.4f}\")\n",
        "            return auc\n",
        "        else:\n",
        "            print(\"AUC cannot be calculated without probability scores.\")\n",
        "            return None\n",
        "\n",
        "    def evaluate_precision(self):\n",
        "        precision = precision_score(self.y_train, self.y_pred, average='weighted')\n",
        "        print(f\"Precision: {precision:.4f}\")\n",
        "        return precision\n",
        "\n",
        "    def evaluate_recall(self):\n",
        "        recall = recall_score(self.y_train, self.y_pred, average='weighted')\n",
        "        print(f\"Recall: {recall:.4f}\")\n",
        "        return recall\n",
        "\n",
        "    def confusion_matrix(self):\n",
        "        cm = confusion_matrix(self.y_train, self.y_pred)\n",
        "        print(f\"Confusion Matrix: {cm}\")\n",
        "        return cm\n",
        "\n",
        "    def evaluate_all(self):\n",
        "        \"\"\"\n",
        "        Evaluate and print all metrics.\n",
        "        \"\"\"\n",
        "        self.evaluate_accuracy()\n",
        "        self.evaluate_f1_score()\n",
        "        self.evaluate_precision()\n",
        "        self.evaluate_recall()\n",
        "        self.evaluate_auc()\n",
        "        self.confusion_matrix()\n"
      ]
    },
    {
      "cell_type": "code",
      "execution_count": 22,
      "metadata": {
        "id": "2MCPwk5IwfhQ"
      },
      "outputs": [],
      "source": [
        "evaluate = \"\"\"\n",
        "# evaluate.py\n",
        "\n",
        "from sklearn.metrics import accuracy_score, f1_score, roc_auc_score, precision_score, recall_score, confusion_matrix\n",
        "\n",
        "class ModelEvaluator:\n",
        "    def __init__(self, y_train, y_pred, y_prob=None):\n",
        "        self.y_train = y_train\n",
        "        self.y_pred = y_pred\n",
        "        self.y_prob = y_prob\n",
        "\n",
        "    def evaluate_accuracy(self):\n",
        "        accuracy = accuracy_score(self.y_train, self.y_pred)\n",
        "        print(f\"Accuracy: {accuracy:.4f}\")\n",
        "        return accuracy\n",
        "\n",
        "    def evaluate_f1_score(self):\n",
        "        f1 = f1_score(self.y_train, self.y_pred, average='weighted')  # 'weighted' to account for label imbalance\n",
        "        print(f\"F1 Score: {f1:.4f}\")\n",
        "        return f1\n",
        "\n",
        "    def evaluate_auc(self):\n",
        "        if self.y_prob is not None:\n",
        "            auc = roc_auc_score(self.y_train, self.y_prob)\n",
        "            print(f\"AUC: {auc:.4f}\")\n",
        "            return auc\n",
        "        else:\n",
        "            print(\"AUC cannot be calculated without probability scores.\")\n",
        "            return None\n",
        "\n",
        "    def evaluate_precision(self):\n",
        "        precision = precision_score(self.y_train, self.y_pred, average='weighted')\n",
        "        print(f\"Precision: {precision:.4f}\")\n",
        "        return precision\n",
        "\n",
        "    def evaluate_recall(self):\n",
        "        recall = recall_score(self.y_train, self.y_pred, average='weighted')\n",
        "        print(f\"Recall: {recall:.4f}\")\n",
        "        return recall\n",
        "\n",
        "    def confusion_matrix(self):\n",
        "        cm = confusion_matrix(self.y_train, self.y_pred)\n",
        "        print(f\"Confusion Matrix: {cm:}\")\n",
        "        return cm\n",
        "\n",
        "    def evaluate_all(self):\n",
        "        self.evaluate_accuracy()\n",
        "        self.evaluate_f1_score()\n",
        "        self.evaluate_precision()\n",
        "        self.evaluate_recall()\n",
        "        self.evaluate_auc()\n",
        "        self.confusion_matrix()\n",
        "\n",
        "      \"\"\"\n",
        "\n",
        "# Writing to the file\n",
        "with open(\"evaluate.py\", \"w\") as f:\n",
        "    f.write(evaluate)"
      ]
    },
    {
      "cell_type": "markdown",
      "metadata": {
        "id": "CtuKkzf3x4Gz"
      },
      "source": [
        "create a dataframe to cooperate all information about running model"
      ]
    },
    {
      "cell_type": "code",
      "execution_count": 47,
      "metadata": {
        "colab": {
          "base_uri": "https://localhost:8080/"
        },
        "id": "VM8E4OIybcl9",
        "outputId": "8533f6a4-7558-432e-f606-392a63e421b7"
      },
      "outputs": [
        {
          "name": "stdout",
          "output_type": "stream",
          "text": [
            "F1 Score: 0.6667\n",
            "Precision: 0.8333\n",
            "Recall: 0.6667\n",
            "AUC: 1.0000\n",
            "F1 Score: 0.6667\n",
            "Precision: 0.8333\n",
            "Recall: 0.6667\n",
            "AUC: 1.0000\n",
            "F1 Score: 0.6667\n",
            "Precision: 0.8333\n",
            "Recall: 0.6667\n",
            "AUC cannot be calculated without probability scores.\n",
            "F1 Score: 0.6667\n",
            "Precision: 0.8333\n",
            "Recall: 0.6667\n",
            "AUC: 1.0000\n",
            "F1 Score: 0.6667\n",
            "Precision: 0.8333\n",
            "Recall: 0.6667\n",
            "AUC cannot be calculated without probability scores.\n",
            "  model_id       algorithm      model_type  accuracy  f1_score  precision  \\\n",
            "0        1  Neural Network  classification  0.850000  0.666667   0.833333   \n",
            "1        1  Neural Network  classification  0.880000  0.666667   0.833333   \n",
            "2        2   Decision Tree  classification  0.800000  0.666667   0.833333   \n",
            "3        1  Neural Network  classification  0.666667  0.666667   0.833333   \n",
            "4        2   Decision Tree  classification  0.666667  0.666667   0.833333   \n",
            "\n",
            "     recall  auc           start_date             end_date is_current  \n",
            "0  0.666667  1.0  2024-09-10 03:05:16  2024-09-11 03:05:16      False  \n",
            "1  0.666667  1.0  2024-09-10 03:05:16  2024-09-11 03:05:16      False  \n",
            "2  0.666667  NaN  2024-09-10 03:05:16  2024-09-11 03:05:16      False  \n",
            "3  0.666667  1.0  2024-09-10 03:05:16                 None       True  \n",
            "4  0.666667  NaN  2024-09-10 03:05:16                 None       True  \n"
          ]
        },
        {
          "name": "stderr",
          "output_type": "stream",
          "text": [
            "<ipython-input-47-575a60319e13>:47: FutureWarning: The behavior of DataFrame concatenation with empty or all-NA entries is deprecated. In a future version, this will no longer exclude empty or all-NA columns when determining the result dtypes. To retain the old behavior, exclude the relevant entries before the concat operation.\n",
            "  training_results = pd.concat([training_results, new_result], ignore_index=True)\n",
            "<ipython-input-47-575a60319e13>:47: FutureWarning: The behavior of DataFrame concatenation with empty or all-NA entries is deprecated. In a future version, this will no longer exclude empty or all-NA columns when determining the result dtypes. To retain the old behavior, exclude the relevant entries before the concat operation.\n",
            "  training_results = pd.concat([training_results, new_result], ignore_index=True)\n",
            "<ipython-input-47-575a60319e13>:47: FutureWarning: The behavior of DataFrame concatenation with empty or all-NA entries is deprecated. In a future version, this will no longer exclude empty or all-NA columns when determining the result dtypes. To retain the old behavior, exclude the relevant entries before the concat operation.\n",
            "  training_results = pd.concat([training_results, new_result], ignore_index=True)\n"
          ]
        }
      ],
      "source": [
        "import pandas as pd\n",
        "from datetime import datetime, timedelta\n",
        "from genAI_course.evaluate import ModelEvaluator\n",
        "\n",
        "# Create a DataFrame to store training results with SCD Type 2\n",
        "training_results = pd.DataFrame(columns=[\n",
        "    'model_id', 'algorithm', 'model_type', 'accuracy', 'f1_score', 'precision', 'recall', 'auc', 'start_date', 'end_date', 'is_current'\n",
        "])\n",
        "\n",
        "def insert_new_training_result(model_id, algorithm, model_type, accuracy, y_true, y_pred, y_prob=None):\n",
        "    global training_results  # Declare the DataFrame as global\n",
        "\n",
        "    current_time = datetime.now().strftime('%Y-%m-%d %H:%M:%S')\n",
        "    start_time = (datetime.now() - timedelta(days=1)).strftime('%Y-%m-%d %H:%M:%S')  # Yesterday as start_date\n",
        "\n",
        "    # Evaluate model using ModelEvaluator\n",
        "    evaluator = ModelEvaluator(y_true, y_pred, y_prob)\n",
        "    f1 = evaluator.evaluate_f1_score()\n",
        "    precision = evaluator.evaluate_precision()\n",
        "    recall = evaluator.evaluate_recall()\n",
        "    accuracy = evaluator.evaluate_accuracy()\n",
        "    auc = evaluator.evaluate_auc()\n",
        "\n",
        "    # Check if a current record exists for the given model_id\n",
        "    existing_record = training_results[(training_results['model_id'] == model_id) & (training_results['is_current'] == True)]\n",
        "\n",
        "    if not existing_record.empty:\n",
        "        # If a current record exists, mark the existing record as inactive by setting the end_date and is_current = False\n",
        "        training_results.loc[existing_record.index, 'end_date'] = current_time\n",
        "        training_results.loc[existing_record.index, 'is_current'] = False\n",
        "\n",
        "    # Convert the new result dictionary into a DataFrame\n",
        "    new_result = pd.DataFrame([{\n",
        "        'model_id': model_id,\n",
        "        'algorithm': algorithm,\n",
        "        'model_type': model_type,\n",
        "        'accuracy': accuracy,\n",
        "        'f1_score': f1,\n",
        "        'precision': precision,\n",
        "        'recall': recall,\n",
        "        'auc': auc,\n",
        "        'start_date': start_time,\n",
        "        'end_date': None,  # Null since this is the current version\n",
        "        'is_current': True\n",
        "    }])\n",
        "\n",
        "    # Use pd.concat to add the new result to the DataFrame\n",
        "    training_results = pd.concat([training_results, new_result], ignore_index=True)\n",
        "\n",
        "# Example usage with dummy true and predicted labels\n",
        "# y_true = [0, 1, 1]  # True labels\n",
        "y_true = y_train\n",
        "y_pred = [0, 1, 1]  # Predicted labels\n",
        "y_prob = [0.2, 0.9, 0.6]  # Predicted probabilities\n",
        "\n",
        "insert_new_training_result(model_id=1, algorithm='Neural Network', model_type='classification', accuracy=0.85, y_true=y_true, y_pred=y_pred, y_prob=y_prob)\n",
        "insert_new_training_result(model_id=1, algorithm='Neural Network', model_type='classification', accuracy=0.88, y_true=y_true, y_pred=y_pred, y_prob=y_prob)\n",
        "insert_new_training_result(model_id=2, algorithm='Decision Tree', model_type='classification', accuracy=0.80, y_true=y_true, y_pred=y_pred)\n",
        "insert_new_training_result(model_id=1, algorithm='Neural Network', model_type='classification', accuracy=accuracy_score(y_train, y_pred), y_true=y_true, y_pred=y_pred, y_prob=y_prob)\n",
        "insert_new_training_result(model_id=2, algorithm='Decision Tree', model_type='classification', accuracy=accuracy_score(y_train, y_pred), y_true=y_true, y_pred=y_pred)\n",
        "\n",
        "# View the updated DataFrame with SCD Type 2 applied\n",
        "print(training_results)\n"
      ]
    }
  ],
  "metadata": {
    "colab": {
      "include_colab_link": true,
      "provenance": []
    },
    "kernelspec": {
      "display_name": "Python 3",
      "name": "python3"
    },
    "language_info": {
      "codemirror_mode": {
        "name": "ipython",
        "version": 3
      },
      "file_extension": ".py",
      "mimetype": "text/x-python",
      "name": "python",
      "nbconvert_exporter": "python",
      "pygments_lexer": "ipython3",
      "version": "3.11.9"
    }
  },
  "nbformat": 4,
  "nbformat_minor": 0
}
